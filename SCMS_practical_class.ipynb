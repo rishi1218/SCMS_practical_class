{
  "nbformat": 4,
  "nbformat_minor": 0,
  "metadata": {
    "colab": {
      "provenance": [],
      "authorship_tag": "ABX9TyNSp/uGtwswTqDuoF6i1i1A",
      "include_colab_link": true
    },
    "kernelspec": {
      "name": "python3",
      "display_name": "Python 3"
    },
    "language_info": {
      "name": "python"
    }
  },
  "cells": [
    {
      "cell_type": "markdown",
      "metadata": {
        "id": "view-in-github",
        "colab_type": "text"
      },
      "source": [
        "<a href=\"https://colab.research.google.com/github/rishi1218/SCMS_practical_class/blob/main/SCMS_practical_class.ipynb\" target=\"_parent\"><img src=\"https://colab.research.google.com/assets/colab-badge.svg\" alt=\"Open In Colab\"/></a>"
      ]
    },
    {
      "cell_type": "code",
      "execution_count": null,
      "metadata": {
        "id": "5-LFQiQ5vfQK"
      },
      "outputs": [],
      "source": [
        "import pandas as pd"
      ]
    },
    {
      "cell_type": "code",
      "source": [
        "data = \"/content/employees.csv\""
      ],
      "metadata": {
        "id": "UMK5RGzDvh4i"
      },
      "execution_count": null,
      "outputs": []
    },
    {
      "cell_type": "code",
      "source": [
        "df = pd.read_csv(data ,dtype={'EMPLOYEE_ID':str,'MANAGER_ID':str})"
      ],
      "metadata": {
        "id": "RyMzGF9SvnMa"
      },
      "execution_count": null,
      "outputs": []
    },
    {
      "cell_type": "code",
      "source": [
        "df['Salary_ranking'] = df['SALARY'].rank(method='dense',ascending=False)"
      ],
      "metadata": {
        "id": "RtAQOAdovojK"
      },
      "execution_count": null,
      "outputs": []
    },
    {
      "cell_type": "code",
      "source": [
        "max(df['SALARY'])"
      ],
      "metadata": {
        "id": "FPNrq5vBvpPN"
      },
      "execution_count": null,
      "outputs": []
    },
    {
      "cell_type": "code",
      "source": [
        "df[df['EMPLOYEE_ID']==101]"
      ],
      "metadata": {
        "id": "9eFFI5hKv0xU"
      },
      "execution_count": null,
      "outputs": []
    },
    {
      "cell_type": "code",
      "source": [
        "# second highest salary"
      ],
      "metadata": {
        "id": "HkCOFEq4v9-R"
      },
      "execution_count": null,
      "outputs": []
    },
    {
      "cell_type": "code",
      "source": [
        "df.loc[df['Salary_ranking']==2,'SALARY']"
      ],
      "metadata": {
        "id": "0_G-HRVnwD_5"
      },
      "execution_count": null,
      "outputs": []
    },
    {
      "cell_type": "code",
      "source": [
        "df.info()"
      ],
      "metadata": {
        "id": "D0Vu-Eby3VWX"
      },
      "execution_count": null,
      "outputs": []
    },
    {
      "cell_type": "code",
      "source": [
        "df = df.merge(df,left_on='MANAGER_ID',right_on='EMPLOYEE_ID',suffixes=('','_manager'))\n",
        "df[\"manager_name\"] = df[\"FIRST_NAME\"] + \" \" + df[\"LAST_NAME\"]\n",
        "df.columns"
      ],
      "metadata": {
        "id": "e1NtsBdy0mqZ"
      },
      "execution_count": null,
      "outputs": []
    },
    {
      "cell_type": "code",
      "source": [
        "df = df.sort_values(by='EMPLOYEE_ID',ascending=True)"
      ],
      "metadata": {
        "id": "NWdUQiMqxQXS"
      },
      "execution_count": null,
      "outputs": []
    },
    {
      "cell_type": "code",
      "source": [
        "df[['EMPLOYEE_ID','FIRST_NAME','MANAGER_ID_manager','FIRST_NAME_manager_manager']]"
      ],
      "metadata": {
        "id": "PS-RuMnu3n_N"
      },
      "execution_count": null,
      "outputs": []
    },
    {
      "cell_type": "code",
      "source": [],
      "metadata": {
        "id": "NQdFqd943wwy"
      },
      "execution_count": null,
      "outputs": []
    }
  ]
}